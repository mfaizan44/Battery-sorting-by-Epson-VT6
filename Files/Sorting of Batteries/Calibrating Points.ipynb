{
 "cells": [
  {
   "cell_type": "code",
   "execution_count": 1,
   "id": "e8466187-fb5e-4c65-89c3-5a7b7b9da1ef",
   "metadata": {},
   "outputs": [
    {
     "name": "stdout",
     "output_type": "stream",
     "text": [
      "Recording Top Left corner position...\n",
      "Recording Top Right corner position...\n",
      "Recording Bottom Left corner position...\n",
      "Recording Bottom Right corner position...\n",
      "Corners have been calibrated and saved successfully!\n"
     ]
    }
   ],
   "source": [
    "import numpy as np\n",
    "\n",
    "# Initialize the corner points\n",
    "corner_points = []\n",
    "\n",
    "# Function to manually record the position of each corner\n",
    "def teach_corner(corner_name, x, y, z):\n",
    "    print(f\"Recording {corner_name} corner position...\")\n",
    "    corner_points.append((x, y, z))\n",
    "\n",
    "# Teach the four corners using the provided coordinates\n",
    "teach_corner(\"Top Left\", 416, 163, 162)\n",
    "teach_corner(\"Top Right\", 410, 300, 162)\n",
    "teach_corner(\"Bottom Left\", 608, 175, 162)\n",
    "teach_corner(\"Bottom Right\", 603, 307, 162)\n",
    "\n",
    "# Save the corner points to an npz file\n",
    "np.savez('corner_points.npz', corner_points=np.array(corner_points))\n",
    "\n",
    "print(\"Corners have been calibrated and saved successfully!\")\n",
    "\n"
   ]
  },
  {
   "cell_type": "code",
   "execution_count": 2,
   "id": "3dd8f5e0-fd8a-4a49-8072-aaaf466324f5",
   "metadata": {},
   "outputs": [
    {
     "name": "stdout",
     "output_type": "stream",
     "text": [
      "Recording drop point for AA battery...\n",
      "Recording drop point for 9V battery...\n",
      "Recording drop point for D battery...\n",
      "Drop points have been calibrated and saved successfully!\n"
     ]
    }
   ],
   "source": [
    "import numpy as np\n",
    "\n",
    "# Initialize the drop points\n",
    "drop_points = {}\n",
    "\n",
    "# Function to manually record the position of each drop point\n",
    "def teach_drop_point(battery_type, x, y, z):\n",
    "    print(f\"Recording drop point for {battery_type} battery...\")\n",
    "    drop_points[battery_type] = (x, y, z)\n",
    "\n",
    "# Teach the drop points for AA, 9V, and D batteries using the provided coordinates\n",
    "teach_drop_point(\"AA\", 592, 45, 255)\n",
    "teach_drop_point(\"9V\", 609, -120, 255)\n",
    "teach_drop_point(\"D\", 422, 45, 255)\n",
    "\n",
    "# Save the drop points to an npz file\n",
    "np.savez('drop_points.npz', drop_points=drop_points)\n",
    "\n",
    "print(\"Drop points have been calibrated and saved successfully!\")\n",
    "\n"
   ]
  },
  {
   "cell_type": "code",
   "execution_count": null,
   "id": "978e1027-094e-4010-9cb8-f49d84969da4",
   "metadata": {},
   "outputs": [],
   "source": []
  }
 ],
 "metadata": {
  "kernelspec": {
   "display_name": "Python 3 (ipykernel)",
   "language": "python",
   "name": "python3"
  },
  "language_info": {
   "codemirror_mode": {
    "name": "ipython",
    "version": 3
   },
   "file_extension": ".py",
   "mimetype": "text/x-python",
   "name": "python",
   "nbconvert_exporter": "python",
   "pygments_lexer": "ipython3",
   "version": "3.12.3"
  }
 },
 "nbformat": 4,
 "nbformat_minor": 5
}
