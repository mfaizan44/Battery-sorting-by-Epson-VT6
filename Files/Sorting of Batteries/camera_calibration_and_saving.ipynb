{
 "cells": [
  {
   "cell_type": "code",
   "execution_count": 3,
   "id": "680300d8-2a57-4d76-80ae-863ca0f21270",
   "metadata": {},
   "outputs": [
    {
     "name": "stdout",
     "output_type": "stream",
     "text": [
      "Camera matrix (intrinsic parameters):\n",
      " [[4.82935649e+03 0.00000000e+00 2.24440232e+03]\n",
      " [0.00000000e+00 5.94853839e+03 1.15263931e+03]\n",
      " [0.00000000e+00 0.00000000e+00 1.00000000e+00]]\n",
      "Distortion coefficients:\n",
      " [[ 1.39123270e+00 -8.97894422e+01 -3.51855167e-02 -6.96907485e-03\n",
      "   1.20292362e+03]]\n",
      "Calibration data saved to calibration_data.npz\n",
      "Camera calibration and saving parameters completed.\n"
     ]
    }
   ],
   "source": [
    "import cv2\n",
    "import numpy as np\n",
    "import glob\n",
    "import os\n",
    "\n",
    "# Path to the directory containing the images\n",
    "images_dir = 'C:/Users/mfaiz/Desktop/PROJECT/Sorting of Batteries/Camera Caliberation/Images'\n",
    "images_path = os.path.join(images_dir, '*.jpg')\n",
    "\n",
    "# Set the parameters for the calibration pattern\n",
    "pattern_size = (8, 11)  # Number of inner corners per a chessboard row and column\n",
    "square_size = 1.0  # Size of a square in your defined unit (here, it will be in the same unit as your real-world object)\n",
    "\n",
    "# Prepare object points\n",
    "objp = np.zeros((np.prod(pattern_size), 3), np.float32)\n",
    "objp[:, :2] = np.indices(pattern_size).T.reshape(-1, 2)\n",
    "objp *= square_size\n",
    "\n",
    "# Arrays to store object points and image points from all the images\n",
    "objpoints = []  # 3d point in real world space\n",
    "imgpoints = []  # 2d points in image plane\n",
    "\n",
    "# Process each image in the directory\n",
    "for image_file in glob.glob(images_path):\n",
    "    img = cv2.imread(image_file)\n",
    "    gray = cv2.cvtColor(img, cv2.COLOR_BGR2GRAY)\n",
    "\n",
    "    # Detect the symmetric circle grid in the image\n",
    "    ret, corners = cv2.findCirclesGrid(gray, pattern_size, cv2.CALIB_CB_SYMMETRIC_GRID)\n",
    "\n",
    "    if ret:\n",
    "        objpoints.append(objp)\n",
    "        imgpoints.append(corners)\n",
    "\n",
    "        # Draw the corners on the original image\n",
    "        img_with_corners = cv2.drawChessboardCorners(img.copy(), pattern_size, corners, ret)\n",
    "\n",
    "        # Display the image with corners\n",
    "        cv2.namedWindow('Corners', cv2.WINDOW_NORMAL)  # Create a resizable window\n",
    "        cv2.imshow('Corners', img_with_corners)\n",
    "        cv2.waitKey(500)  # Display for 500 milliseconds\n",
    "\n",
    "cv2.destroyAllWindows()\n",
    "\n",
    "# Check if any pattern was detected\n",
    "if objpoints and imgpoints:\n",
    "    # Perform camera calibration\n",
    "    ret, mtx, dist, rvecs, tvecs = cv2.calibrateCamera(objpoints, imgpoints, gray.shape[::-1], None, None)\n",
    "    \n",
    "    # Print calibration results\n",
    "    print(\"Camera matrix (intrinsic parameters):\\n\", mtx)\n",
    "    print(\"Distortion coefficients:\\n\", dist)\n",
    "    \n",
    "    # Save calibration parameters\n",
    "    np.savez('calibration_data.npz', mtx=mtx, dist=dist)\n",
    "    print(\"Calibration data saved to calibration_data.npz\")\n",
    "    \n",
    "    print(\"Camera calibration and saving parameters completed.\")\n",
    "else:\n",
    "    print(\"No patterns were detected in the provided images.\")\n"
   ]
  },
  {
   "cell_type": "code",
   "execution_count": null,
   "id": "f96a9a00-ee77-4641-9224-460f2a301539",
   "metadata": {},
   "outputs": [],
   "source": []
  }
 ],
 "metadata": {
  "kernelspec": {
   "display_name": "Python 3 (ipykernel)",
   "language": "python",
   "name": "python3"
  },
  "language_info": {
   "codemirror_mode": {
    "name": "ipython",
    "version": 3
   },
   "file_extension": ".py",
   "mimetype": "text/x-python",
   "name": "python",
   "nbconvert_exporter": "python",
   "pygments_lexer": "ipython3",
   "version": "3.12.3"
  }
 },
 "nbformat": 4,
 "nbformat_minor": 5
}
