{
 "cells": [
  {
   "cell_type": "code",
   "execution_count": 1,
   "id": "e488ab1c-13e0-4083-8574-bb4f3f73fe78",
   "metadata": {},
   "outputs": [
    {
     "name": "stdout",
     "output_type": "stream",
     "text": [
      "Error loading image\n"
     ]
    },
    {
     "ename": "AttributeError",
     "evalue": "'NoneType' object has no attribute 'shape'",
     "output_type": "error",
     "traceback": [
      "\u001b[1;31m---------------------------------------------------------------------------\u001b[0m",
      "\u001b[1;31mAttributeError\u001b[0m                            Traceback (most recent call last)",
      "Cell \u001b[1;32mIn[1], line 46\u001b[0m\n\u001b[0;32m     43\u001b[0m     exit()\n\u001b[0;32m     45\u001b[0m \u001b[38;5;66;03m# Assuming cell dimensions\u001b[39;00m\n\u001b[1;32m---> 46\u001b[0m cell_width \u001b[38;5;241m=\u001b[39m \u001b[43mimg\u001b[49m\u001b[38;5;241;43m.\u001b[39;49m\u001b[43mshape\u001b[49m[\u001b[38;5;241m1\u001b[39m] \u001b[38;5;241m/\u001b[39m\u001b[38;5;241m/\u001b[39m num_cols\n\u001b[0;32m     47\u001b[0m cell_height \u001b[38;5;241m=\u001b[39m img\u001b[38;5;241m.\u001b[39mshape[\u001b[38;5;241m0\u001b[39m] \u001b[38;5;241m/\u001b[39m\u001b[38;5;241m/\u001b[39m num_rows\n\u001b[0;32m     49\u001b[0m \u001b[38;5;66;03m# Detect dots in the image\u001b[39;00m\n",
      "\u001b[1;31mAttributeError\u001b[0m: 'NoneType' object has no attribute 'shape'"
     ]
    }
   ],
   "source": [
    "import cv2\n",
    "import numpy as np\n",
    "\n",
    "# Define the dimensions of the dot grid\n",
    "num_rows = 7\n",
    "num_cols = 9\n",
    "num_dots = num_rows * num_cols\n",
    "\n",
    "def detect_dots(img):\n",
    "    dot_centers = []\n",
    "\n",
    "    # Convert image to grayscale\n",
    "    gray = cv2.cvtColor(img, cv2.COLOR_BGR2GRAY)\n",
    "\n",
    "    # Apply Gaussian blur to reduce noise\n",
    "    blurred = cv2.GaussianBlur(gray, (5, 5), 0)\n",
    "\n",
    "    # Apply adaptive thresholding to enhance dot visibility\n",
    "    binary = cv2.adaptiveThreshold(blurred, 255, cv2.ADAPTIVE_THRESH_GAUSSIAN_C, cv2.THRESH_BINARY_INV, 11, 2)\n",
    "\n",
    "    # Use morphological operations to remove small noise and to separate dots connected to objects\n",
    "    kernel = np.ones((3, 3), np.uint8)\n",
    "    morphed = cv2.morphologyEx(binary, cv2.MORPH_CLOSE, kernel, iterations=2)\n",
    "\n",
    "    # Find contours in the morphed image\n",
    "    contours, _ = cv2.findContours(morphed, cv2.RETR_EXTERNAL, cv2.CHAIN_APPROX_SIMPLE)\n",
    "\n",
    "    # Filter contours by area to find the dots\n",
    "    for contour in contours:\n",
    "        area = cv2.contourArea(contour)\n",
    "        if 50 < area < 500:  # Adjust these values based on your dot size\n",
    "            M = cv2.moments(contour)\n",
    "            if M[\"m00\"] != 0:\n",
    "                center = (int(M[\"m10\"] / M[\"m00\"]), int(M[\"m01\"] / M[\"m00\"]))\n",
    "                dot_centers.append(center)\n",
    "\n",
    "    return dot_centers\n",
    "\n",
    "# Load the image\n",
    "img = cv2.imread('/mnt/data/batteries (13).jpg')\n",
    "if img is None:\n",
    "    print(\"Error loading image\")\n",
    "    exit()\n",
    "\n",
    "# Assuming cell dimensions\n",
    "cell_width = img.shape[1] // num_cols\n",
    "cell_height = img.shape[0] // num_rows\n",
    "\n",
    "# Detect dots in the image\n",
    "detected_centers = detect_dots(img)\n",
    "\n",
    "# Perform calibration using detected dot centers\n",
    "if len(detected_centers) >= num_dots:\n",
    "    objpoints = np.zeros((num_dots, 3), np.float32)\n",
    "    imgpoints = np.array(detected_centers, dtype=np.float32)\n",
    "\n",
    "    # Define real-world coordinates (adjust based on your setup)\n",
    "    for i in range(num_dots):\n",
    "        objpoints[i] = [(i % num_cols) * cell_width, (i // num_cols) * cell_height, 0]\n",
    "\n",
    "    # Perform camera calibration\n",
    "    gray = cv2.cvtColor(img, cv2.COLOR_BGR2GRAY)\n",
    "    ret, mtx, dist, rvecs, tvecs = cv2.calibrateCamera([objpoints], [imgpoints], gray.shape[::-1], None, None)\n",
    "\n",
    "    # Save calibration parameters\n",
    "    np.savez('calibration_data.npz', mtx=mtx, dist=dist)\n",
    "\n",
    "    # Print calibration results\n",
    "    print(\"Camera matrix (intrinsic parameters):\\n\", mtx)\n",
    "    print(\"Distortion coefficients:\\n\", dist)\n",
    "else:\n",
    "    print(f\"Not enough dots detected ({len(detected_centers)} detected). Check your detection logic.\")\n",
    "\n",
    "# Optional: Draw detected dot centers on the image for visualization\n",
    "for center in detected_centers:\n",
    "    cv2.circle(img, center, 5, (0, 255, 0), -1)\n",
    "\n",
    "cv2.imshow('Detected Dots', img)\n",
    "cv2.waitKey(0)\n",
    "cv2.destroyAllWindows()\n"
   ]
  }
 ],
 "metadata": {
  "kernelspec": {
   "display_name": "Python 3 (ipykernel)",
   "language": "python",
   "name": "python3"
  },
  "language_info": {
   "codemirror_mode": {
    "name": "ipython",
    "version": 3
   },
   "file_extension": ".py",
   "mimetype": "text/x-python",
   "name": "python",
   "nbconvert_exporter": "python",
   "pygments_lexer": "ipython3",
   "version": "3.12.3"
  }
 },
 "nbformat": 4,
 "nbformat_minor": 5
}
